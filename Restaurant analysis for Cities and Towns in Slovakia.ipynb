{
 "cells": [
  {
   "cell_type": "markdown",
   "metadata": {},
   "source": [
    "# Restaurant analysis for Cities and Towns in Slovakia"
   ]
  },
  {
   "cell_type": "markdown",
   "metadata": {},
   "source": [
    "## Introduction"
   ]
  },
  {
   "cell_type": "markdown",
   "metadata": {},
   "source": [
    "In this project I am interested in restaurant market segmentation in 30 most populated cities/towns in Slovakia. I am a fan of foreign cuisine. But unfortunatelly in my small home town (around 30 000 people) there is not much to offer. In this analysis i would like to find whether simmilar situation is the case for other towns as well.\n",
    "This analysis could theoretically be helpfull for a starting restaurateur who does not know what cuisine should offer. Or for immigrant who want to share his/her native cousine, but don't know in which town to be most profitable. To be profitable, the owner should start a bussines in place with the higest possible average income of local population and also lowest possible crime rate, unemployment rate and poverty rate."
   ]
  },
  {
   "cell_type": "markdown",
   "metadata": {},
   "source": [
    "## Used data"
   ]
  },
  {
   "cell_type": "markdown",
   "metadata": {},
   "source": [
    "For the current state of restaurant segmentation Foursquare API will be used. Instead of location data (in API LL) about latitude and longitude, parameter near will be used to get venues from whole town.\n",
    "The source of demografic information as \n",
    "- Town population\n",
    "- average incom \n",
    "- crime rate\n",
    "- unemployment rate\n",
    "- poverty rate\n",
    "will be found on web of Statistical Office of the Slovak Republic. https://slovak.statistics.sk/"
   ]
  }
 ],
 "metadata": {
  "kernelspec": {
   "display_name": "Python 3",
   "language": "python",
   "name": "python3"
  },
  "language_info": {
   "codemirror_mode": {
    "name": "ipython",
    "version": 3
   },
   "file_extension": ".py",
   "mimetype": "text/x-python",
   "name": "python",
   "nbconvert_exporter": "python",
   "pygments_lexer": "ipython3",
   "version": "3.7.6"
  }
 },
 "nbformat": 4,
 "nbformat_minor": 4
}
